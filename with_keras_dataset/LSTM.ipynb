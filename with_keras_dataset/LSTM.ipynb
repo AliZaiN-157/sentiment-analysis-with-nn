{
  "nbformat": 4,
  "nbformat_minor": 0,
  "metadata": {
    "colab": {
      "provenance": []
    },
    "kernelspec": {
      "name": "python3",
      "display_name": "Python 3"
    },
    "accelerator": "GPU"
  },
  "cells": [
    {
      "cell_type": "markdown",
      "source": [
        "### Importing the Libraries"
      ],
      "metadata": {
        "id": "2loQW8A_4Grl"
      }
    },
    {
      "cell_type": "code",
      "source": [
        "import numpy\n",
        "from keras.datasets import imdb\n",
        "from keras.models import Sequential\n",
        "from keras.layers import Dense,Dropout\n",
        "from keras.layers import Flatten\n",
        "from keras.layers.convolutional import Conv1D\n",
        "from keras.layers.convolutional import MaxPooling1D\n",
        "from keras.layers.embeddings import Embedding\n",
        "from keras.preprocessing import sequence\n",
        "from keras.layers import LSTM\n",
        "from sklearn.model_selection import train_test_split\n",
        "from sklearn.metrics import confusion_matrix\n",
        "# fix random seed for reproducibility\n",
        "seed = 7\n",
        "numpy.random.seed(seed)"
      ],
      "metadata": {
        "id": "b14-HIDq43aA"
      },
      "execution_count": null,
      "outputs": []
    },
    {
      "cell_type": "markdown",
      "source": [
        "### Loading the Dataset, applying Padding and Splitting the data"
      ],
      "metadata": {
        "id": "j0fSkWF04F3J"
      }
    },
    {
      "cell_type": "code",
      "metadata": {
        "id": "rAFT9uNWVsm-"
      },
      "source": [
        "# load the dataset but only keep the top n words, zero the rest\n",
        "top_words = 8000\n",
        "(X_train, y_train), (X_test, y_test) = imdb.load_data(num_words=top_words)\n",
        "\n",
        "# pad dataset to a maximum review length in words\n",
        "max_words = 500\n",
        "X_train = sequence.pad_sequences(X_train, maxlen=max_words)\n",
        "X_test = sequence.pad_sequences(X_test, maxlen=max_words)\n",
        "\n",
        "X = numpy.concatenate((X_train, X_test), axis=0)\n",
        "y = numpy.concatenate((y_train, y_test), axis=0)\n",
        "\n",
        "X_train, X_test, y_train, y_test = train_test_split(X, y, test_size=0.3, random_state=42) # split into train and test sets."
      ],
      "execution_count": null,
      "outputs": []
    },
    {
      "cell_type": "markdown",
      "source": [
        "### Defining the Model Architecture"
      ],
      "metadata": {
        "id": "iR7WwWMz4Ot9"
      }
    },
    {
      "cell_type": "code",
      "source": [
        "model = Sequential()\n",
        "model.add(Embedding(top_words, 100, input_length=max_words))\n",
        "model.add(LSTM(200))\n",
        "model.add(Dropout(0.8))\n",
        "model.add(Dense(1, activation='sigmoid'))\n",
        "model.compile(loss='binary_crossentropy', optimizer='adam', metrics=['accuracy'])\n",
        "print(model.summary())"
      ],
      "metadata": {
        "id": "ggZ84vVI1Mty"
      },
      "execution_count": null,
      "outputs": []
    },
    {
      "cell_type": "markdown",
      "source": [
        "### Training the Model"
      ],
      "metadata": {
        "id": "zFDozwdt4R6A"
      }
    },
    {
      "cell_type": "code",
      "metadata": {
        "id": "elHsihKeWGYe"
      },
      "source": [
        "# fit the model\n",
        "model.fit(X_train, y_train, validation_split=0.2, epochs=3, batch_size=128, verbose=2)\n",
        "# final evaluation of the model\n",
        "scores = model.evaluate(X_test, y_test, verbose=0)\n",
        "print(\"Accuracy: %.2f%%\" % (scores[1]*100))"
      ],
      "execution_count": null,
      "outputs": []
    },
    {
      "cell_type": "markdown",
      "source": [
        "### Evaluating the Model"
      ],
      "metadata": {
        "id": "9xtgS1CE4lny"
      }
    },
    {
      "cell_type": "code",
      "metadata": {
        "id": "O3qy_PSeRE4V"
      },
      "source": [
        "test_size=len(X_test)\n",
        "y_pred=model.predict_proba(X_test)\n",
        "for i in range(test_size):\n",
        "    if y_pred[i]>0.4:\n",
        "        y_pred[i]=1\n",
        "    else:\n",
        "        y_pred[i]=0"
      ],
      "execution_count": null,
      "outputs": []
    },
    {
      "cell_type": "code",
      "metadata": {
        "id": "z9YpI9EERW0a",
        "outputId": "af749f40-5f97-4c07-e331-136d4fe45935",
        "colab": {
          "base_uri": "https://localhost:8080/",
          "height": 51
        }
      },
      "source": [
        "cm=confusion_matrix(y_test,y_pred)\n",
        "print(cm)"
      ],
      "execution_count": null,
      "outputs": [
        {
          "output_type": "stream",
          "text": [
            "[[6147 1326]\n",
            " [ 619 6908]]\n"
          ],
          "name": "stdout"
        }
      ]
    },
    {
      "cell_type": "code",
      "metadata": {
        "id": "Ct3GGqNcRa0G"
      },
      "source": [
        "tp=cm[0][0]\n",
        "fn=cm[0][1]\n",
        "fp=cm[1][0]\n",
        "tn=cm[1][1]\n",
        "\n",
        "errorrate=((fp+fn)/(tp+fn+fp+tn))\n",
        "accuracy=((tp+tn)/(tp+fn+fp+tn))\n",
        "recall=(tp/(tp+fn))\n",
        "specificity=(tn/(tn+fp))\n",
        "precision=(tp/(tp+fp))\n",
        "# fpr=1-specificity\n",
        "f1_score=(2*precision*recall)/(precision+recall)"
      ],
      "execution_count": null,
      "outputs": []
    },
    {
      "cell_type": "code",
      "metadata": {
        "id": "XNOVlYDRRjvu",
        "outputId": "8c472896-2c53-476f-f589-c16a2afb531b",
        "colab": {
          "base_uri": "https://localhost:8080/",
          "height": 255
        }
      },
      "source": [
        "print(\"Error Rate\")\n",
        "print(errorrate * 100)\n",
        "print(\"Accuracy\")\n",
        "print(accuracy * 100)\n",
        "print(\"Recall\")\n",
        "print(recall * 100)\n",
        "print(\"Specificity\")\n",
        "print(specificity * 100)\n",
        "print(\"Precision\")\n",
        "print(precision * 100)\n",
        "'''\n",
        "print(\"fpr\")\n",
        "print(fpr)\n",
        "'''\n",
        "print(\"F1 Score\")\n",
        "print(f1_score * 100)"
      ],
      "execution_count": null,
      "outputs": [
        {
          "output_type": "stream",
          "text": [
            "ERRORRATE\n",
            "0.12966666666666668\n",
            "accuracy\n",
            "0.8703333333333333\n",
            "sensitivity\n",
            "0.8225612203934163\n",
            "specificity\n",
            "0.9177627208715292\n",
            "precision\n",
            "0.9085131540053207\n",
            "fpr\n",
            "0.08223727912847079\n",
            "f1_score\n",
            "0.8634033288854556\n"
          ],
          "name": "stdout"
        }
      ]
    },
    {
      "cell_type": "markdown",
      "source": [
        "### Saving the Model"
      ],
      "metadata": {
        "id": "d1jEdgjm5DhV"
      }
    },
    {
      "cell_type": "code",
      "source": [
        "model.save(\"lstmmodel.h5\")"
      ],
      "metadata": {
        "id": "LhQadmvS5DJf"
      },
      "execution_count": null,
      "outputs": []
    }
  ]
}