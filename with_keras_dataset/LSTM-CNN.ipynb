{
  "nbformat": 4,
  "nbformat_minor": 0,
  "metadata": {
    "colab": {
      "provenance": []
    },
    "kernelspec": {
      "name": "python3",
      "display_name": "Python 3"
    }
  },
  "cells": [
    {
      "cell_type": "markdown",
      "source": [
        "### Importing the Libraries"
      ],
      "metadata": {
        "id": "U-mttHbF53u2"
      }
    },
    {
      "cell_type": "code",
      "source": [
        "import numpy\n",
        "from keras.datasets import imdb\n",
        "from keras.models import Sequential\n",
        "from keras.layers import Dense,Dropout\n",
        "from keras.layers import Flatten\n",
        "from keras.layers.convolutional import Conv1D\n",
        "from keras.layers.convolutional import MaxPooling1D\n",
        "from keras.layers.embeddings import Embedding\n",
        "from keras.preprocessing import sequence\n",
        "from keras.layers import LSTM\n",
        "from sklearn.metrics import confusion_matrix\n",
        "from sklearn.model_selection import train_test_split\n",
        "# fix random seed for reproducibility\n",
        "seed = 7\n",
        "numpy.random.seed(seed)"
      ],
      "metadata": {
        "id": "NePoJbKw52WE"
      },
      "execution_count": null,
      "outputs": []
    },
    {
      "cell_type": "markdown",
      "source": [
        "### Loading the Dataset, applying Padding and Splitting the data"
      ],
      "metadata": {
        "id": "-fC5O8nt6G0w"
      }
    },
    {
      "cell_type": "code",
      "metadata": {
        "id": "d4UOYw0GGqzG"
      },
      "source": [
        "# load the dataset but only keep the top n words, zero the rest\n",
        "top_words = 8000\n",
        "(X_train, y_train), (X_test, y_test) = imdb.load_data(num_words=top_words)\n",
        "\n",
        "# pad dataset to a maximum review length in words\n",
        "max_words = 500\n",
        "X_train = sequence.pad_sequences(X_train, maxlen=max_words)\n",
        "X_test = sequence.pad_sequences(X_test, maxlen=max_words)\n",
        "\n",
        "X = numpy.concatenate((X_train, X_test), axis=0)\n",
        "y = numpy.concatenate((y_train, y_test), axis=0)\n",
        "\n",
        "X_train, X_test, y_train, y_test = train_test_split(X, y, test_size=0.3, random_state=42) # split into train and test sets."
      ],
      "execution_count": null,
      "outputs": []
    },
    {
      "cell_type": "markdown",
      "source": [
        "### Defining the Model Architecture"
      ],
      "metadata": {
        "id": "FWIOA2vn60p_"
      }
    },
    {
      "cell_type": "code",
      "metadata": {
        "id": "0cHXtj9-Gw2X"
      },
      "source": [
        "model = Sequential()\n",
        "model.add(Embedding(top_words, 100, input_length=max_words))\n",
        "model.add(LSTM(100,return_sequences=True))\n",
        "model.add(Conv1D(64, 3, padding='same',activation='relu'))\n",
        "model.add(MaxPooling1D(pool_size=2))\n",
        "model.add(Flatten())\n",
        "model.add(Dropout(0.8))\n",
        "model.add(Dense(250, activation='relu'))\n",
        "model.add(Dropout(0.8))\n",
        "model.add(Dense(1, activation='sigmoid'))\n",
        "model.compile(loss='binary_crossentropy', optimizer='adam', metrics=['accuracy'])\n",
        "print(model.summary())"
      ],
      "execution_count": null,
      "outputs": []
    },
    {
      "cell_type": "markdown",
      "source": [
        "### Training the Model\n"
      ],
      "metadata": {
        "id": "7OfUTuVm7Sa7"
      }
    },
    {
      "cell_type": "code",
      "metadata": {
        "id": "cgB5YX9rHCGV",
        "outputId": "3f57e1b3-5ee4-4f5f-fb3b-ccae43913999",
        "colab": {
          "base_uri": "https://localhost:8080/",
          "height": 241
        }
      },
      "source": [
        "# Fit the model\n",
        "print('model compiled')\n",
        "model.fit(X_train, y_train, validation_split=0.2, epochs=3, batch_size=128, verbose=2)\n",
        "# Final evaluation of the model\n",
        "scores = model.evaluate(X_test, y_test, verbose=0)\n",
        "print(\"Accuracy: %.2f%%\" % (scores[1]*100))"
      ],
      "execution_count": null,
      "outputs": [
        {
          "output_type": "stream",
          "text": [
            "model compiled\n",
            "WARNING:tensorflow:From /usr/local/lib/python3.6/dist-packages/tensorflow/python/ops/math_ops.py:3066: to_int32 (from tensorflow.python.ops.math_ops) is deprecated and will be removed in a future version.\n",
            "Instructions for updating:\n",
            "Use tf.cast instead.\n",
            "Train on 28000 samples, validate on 7000 samples\n",
            "Epoch 1/3\n",
            " - 489s - loss: 0.4656 - acc: 0.7486 - val_loss: 0.2896 - val_acc: 0.8794\n",
            "Epoch 2/3\n",
            " - 487s - loss: 0.2265 - acc: 0.9134 - val_loss: 0.3021 - val_acc: 0.8777\n",
            "Epoch 3/3\n",
            " - 487s - loss: 0.1712 - acc: 0.9352 - val_loss: 0.2976 - val_acc: 0.8824\n",
            "Accuracy: 88.49%\n"
          ],
          "name": "stdout"
        }
      ]
    },
    {
      "cell_type": "markdown",
      "source": [
        "### Evaluating the Model"
      ],
      "metadata": {
        "id": "YHPwKHAQ7lBw"
      }
    },
    {
      "cell_type": "code",
      "metadata": {
        "id": "G-XwWNUVBpFQ"
      },
      "source": [
        "test_size=len(X_test)\n",
        "y_pred=model1.predict_proba(X_test)\n",
        "for i in range(test_size):\n",
        "    if y_pred[i]>0.4:\n",
        "        y_pred[i]=1\n",
        "    else:\n",
        "        y_pred[i]=0"
      ],
      "execution_count": null,
      "outputs": []
    },
    {
      "cell_type": "code",
      "metadata": {
        "id": "ADfcNX9ZB0xG",
        "outputId": "133b54f4-a4e5-4609-c7c9-e47f44c51c5e",
        "colab": {
          "base_uri": "https://localhost:8080/",
          "height": 51
        }
      },
      "source": [
        "cm=confusion_matrix(y_test,y_pred)\n",
        "print(cm)"
      ],
      "execution_count": null,
      "outputs": [
        {
          "output_type": "stream",
          "text": [
            "[[6750  723]\n",
            " [ 963 6564]]\n"
          ],
          "name": "stdout"
        }
      ]
    },
    {
      "cell_type": "code",
      "metadata": {
        "id": "H8YWven3CDtb"
      },
      "source": [
        "tp=cm[0][0]\n",
        "fn=cm[0][1]\n",
        "fp=cm[1][0]\n",
        "tn=cm[1][1]\n",
        "\n",
        "errorrate=((fp+fn)/(tp+fn+fp+tn))\n",
        "accuracy=((tp+tn)/(tp+fn+fp+tn))\n",
        "recall=(tp/(tp+fn))\n",
        "specificity=(tn/(tn+fp))\n",
        "precision=(tp/(tp+fp))\n",
        "# fpr=1-specificity\n",
        "f1_score=(2*precision*recall)/(precision+recall)"
      ],
      "execution_count": null,
      "outputs": []
    },
    {
      "cell_type": "code",
      "metadata": {
        "id": "7rCRTiy9FQPQ",
        "outputId": "893c9273-75dc-47d7-e8b1-bc336bb12b57",
        "colab": {
          "base_uri": "https://localhost:8080/",
          "height": 255
        }
      },
      "source": [
        "print(\"Error Rate\")\n",
        "print(errorrate * 100)\n",
        "print(\"Accuracy\")\n",
        "print(accuracy * 100)\n",
        "print(\"Recall\")\n",
        "print(recall * 100)\n",
        "print(\"Specificity\")\n",
        "print(specificity * 100)\n",
        "print(\"Precision\")\n",
        "print(precision * 100)\n",
        "'''\n",
        "print(\"fpr\")\n",
        "print(fpr)\n",
        "'''\n",
        "print(\"F1 Score\")\n",
        "print(f1_score * 100)"
      ],
      "execution_count": null,
      "outputs": [
        {
          "output_type": "stream",
          "text": [
            "ERRORRATE\n",
            "0.1124\n",
            "accuracy\n",
            "0.8876\n",
            "sensitivity\n",
            "0.9032517061421116\n",
            "specificity\n",
            "0.8720605819051415\n",
            "precision\n",
            "0.8751458576429405\n",
            "fpr\n",
            "0.12793941809485854\n",
            "f1_score\n",
            "0.8889766890557093\n"
          ],
          "name": "stdout"
        }
      ]
    },
    {
      "cell_type": "markdown",
      "source": [
        "### Saving the Model"
      ],
      "metadata": {
        "id": "5GhTAcgn8VE7"
      }
    },
    {
      "cell_type": "code",
      "source": [
        "model.save(\"lstm_cnnmodel.h5\")"
      ],
      "metadata": {
        "id": "0dT9KYGT8XDu"
      },
      "execution_count": null,
      "outputs": []
    }
  ]
}